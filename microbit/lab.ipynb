{
 "cells": [
  {
   "cell_type": "code",
   "execution_count": 1,
   "metadata": {},
   "outputs": [],
   "source": [
    "import pygatt\n",
    "from pygatt.backends.bgapi.bgapi import *\n",
    "# from microbit.bluetooth.bluetooth_io import BluetoothIO\n",
    "# from microbit.bluetooth.connect_info import IOType\n",
    "# from microbit.bluetooth.service_manager import ServiceManager\n",
    "\n",
    "\n",
    "adapter = None\n",
    "\n",
    "\n",
    "class Smarthub:\n",
    "    '''\n",
    "    usage:\n",
    "    from microbit.smarthub import Smarthub\n",
    "    hub = Smarthub()\n",
    "    '''\n",
    "    def __init__(self):\n",
    "        global adapter\n",
    "        if adapter is None:\n",
    "            adapter = _Patched_BGAPIBackend()\n",
    "            adapter.start()\n",
    "\n",
    "        self.io = None\n",
    "        self.service_manager = None\n",
    "        self.device = None\n",
    "\n",
    "        devices = adapter.scan(1)\n",
    "        devices = sorted(devices, key=lambda k: k['rssi'], reverse=True)\n",
    "        # print(\"devices:\",devices)\n",
    "        device_address = devices[0]['address']\n",
    "        ADDRESS_TYPE = pygatt.BLEAddressType.random\n",
    "        self.device = adapter.connect(device_address, address_type=ADDRESS_TYPE)\n",
    "        # self.io = BluetoothIO(self.device)\n",
    "        # self.service_manager = ServiceManager(self.io)\n",
    "\n",
    "    def disconnect(self):\n",
    "        adapter.stop()\n",
    "\n",
    "# A temporary pygatt patch\n",
    "class _Patched_BGAPIBackend(BGAPIBackend):\n",
    "\n",
    "    def _open_serial_port(self):\n",
    "        \"\"\"\n",
    "        Open a connection to the named serial port, or auto-detect the first\n",
    "        port matching the BLED device. This will wait until data can actually be\n",
    "        read from the connection, so it will not return until the device is\n",
    "        fully booted.\n",
    "\n",
    "        Raises a NotConnectedError if the device cannot connect after 10\n",
    "        attempts, with a short pause in between each attempt.\n",
    "        \"\"\"\n",
    "        for attempt in range(MAX_RECONNECTION_ATTEMPTS):\n",
    "            try:\n",
    "                serial_port = self._serial_port or self._detect_device_port()\n",
    "                self._ser = None\n",
    "\n",
    "                log.debug(\"Attempting to connect to serial port after \"\n",
    "                          \"restarting device\")\n",
    "                self._ser = serial.Serial(serial_port, baudrate=115200,\n",
    "                                          timeout=0.25)\n",
    "                # Wait until we can actually read from the device\n",
    "                self._ser.read()\n",
    "                break\n",
    "            except (BGAPIError, serial.serialutil.SerialException,\n",
    "                    serial_exception):\n",
    "                if self._ser:\n",
    "                    self._ser.close()\n",
    "                \"\"\"\n",
    "                elif attempt == 0:\n",
    "                    raise NotConnectedError(\n",
    "                        \"No BGAPI compatible device detected\")\n",
    "                \"\"\"\n",
    "                self._ser = None\n",
    "                time.sleep(0.25)\n",
    "        else:\n",
    "            raise NotConnectedError(\"Unable to reconnect with USB \"\n",
    "                                    \"device after rebooting\")"
   ]
  },
  {
   "cell_type": "code",
   "execution_count": 2,
   "metadata": {},
   "outputs": [
    {
     "name": "stdout",
     "output_type": "stream",
     "text": [
      "devices: [{'address': 'DF:48:87:86:93:20', 'name': 'BBC micro:bit [zuzop]', 'rssi': -39, 'packet_data': {'connectable_advertisement_packet': {'flags': bytearray(b'\\x06'), 'complete_local_name': 'BBC micro:bit [zuzop]', 'complete_list_16-bit_service_class_uuids': bytearray(b'\\x05\\xf0')}, 'scan_response_packet': {}}}, {'address': '48:16:E5:50:63:1F', 'name': '', 'rssi': -49, 'packet_data': {'connectable_advertisement_packet': {'flags': bytearray(b'\\x06'), 'manufacturer_specific_data': bytearray(b'L\\x00\\x0c\\x0e\\x08\\xcb\\x16n\\xccwP\\x05\\xc3\\xc6\\x1d!d\\xd7')}, 'scan_response_packet': {}}}, {'address': '88:E9:FE:5B:99:04', 'name': '', 'rssi': -49, 'packet_data': {'connectable_advertisement_packet': {'flags': bytearray(b'\\x06'), 'manufacturer_specific_data': bytearray(b'L\\x00\\x10\\x02\\x0b\\x00')}, 'scan_response_packet': {}}}]\n"
     ]
    }
   ],
   "source": [
    "hub = Smarthub()"
   ]
  },
  {
   "cell_type": "code",
   "execution_count": null,
   "metadata": {},
   "outputs": [],
   "source": [
    "hub"
   ]
  }
 ],
 "metadata": {
  "kernelspec": {
   "display_name": "Python 3",
   "language": "python",
   "name": "python3"
  },
  "language_info": {
   "codemirror_mode": {
    "name": "ipython",
    "version": 3
   },
   "file_extension": ".py",
   "mimetype": "text/x-python",
   "name": "python",
   "nbconvert_exporter": "python",
   "pygments_lexer": "ipython3",
   "version": "3.6.5"
  }
 },
 "nbformat": 4,
 "nbformat_minor": 2
}
